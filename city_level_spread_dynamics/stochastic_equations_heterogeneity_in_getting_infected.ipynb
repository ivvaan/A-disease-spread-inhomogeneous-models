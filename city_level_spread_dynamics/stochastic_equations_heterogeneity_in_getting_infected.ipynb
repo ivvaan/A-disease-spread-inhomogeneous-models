{
 "cells": [
  {
   "cell_type": "code",
   "execution_count": 1,
   "id": "8bb666e7-222d-4f4b-842a-1cd20bbcf23d",
   "metadata": {},
   "outputs": [],
   "source": [
    "import numpy as np\n",
    "import matplotlib.pyplot as plt\n",
    "import scipy.special as scsp\n",
    "#from scipy.special import lambertw\n",
    "from scipy.integrate import odeint\n",
    "from IPython.display import display, Math\n",
    "import sympy as sp\n",
    "import matplotlib as mpl\n",
    "plt.style.use('seaborn-v0_8-darkgrid')"
   ]
  },
  {
   "cell_type": "code",
   "execution_count": 2,
   "id": "6f8efbb9-8d36-46be-9b1d-8a8a684bf127",
   "metadata": {},
   "outputs": [],
   "source": [
    "sp.init_printing()\n",
    "μ,ξ,w,d,k,t,x,y,p,m,v,q,r,s,z = sp.symbols('μ,ξ,w,d,k,t,x,y,p,m,v,q,r,s,z')\n",
    "def prepend_latex(letex_str,sympy_expr): return Math(letex_str+sp.latex(sympy_expr))"
   ]
  },
  {
   "cell_type": "markdown",
   "id": "6617249b-3251-4abd-ac22-1a18dabd3dcb",
   "metadata": {},
   "source": [
    "**These notes aim to derive the stochastic equations governing the spread of a disease through a heterogeneous population.**\n",
    "##  Heterogeneity in getting infected"
   ]
  },
  {
   "cell_type": "markdown",
   "id": "af912074-4854-434e-a874-0deb42ba59c9",
   "metadata": {},
   "source": [
    "Let us consider a susceptible population where the logarithm of each individual’s susceptibility to the disease is represented as  \n",
    "$$\n",
    "\\mathbf{y} = (y_1, y_2, \\dots, y_n).\n",
    "$$  \n",
    "Here, $y_i$ denotes the logarithm of susceptibility for the $i$-th individual. The values $y_i$ are sampled from a normally distributed random variable, $Y \\sim N(\\mu, v)$, with mean $\\mu$ and variance $v$.\n",
    "\n",
    "In time  $\\mathrm{d}t$ there are $\\alpha\\cdot n\\, \\mathrm{d}t$ interactions between susceptible and infected populations, where $\\alpha$ - value proportional to the infected population size, and, at this stage, we don't care about it. As a result of the interaction with a small probability $p_i$ proportional to $\\exp(y_i)$, the susceptible person is drawn to become infected \n",
    "$$\n",
    "p_i=p(y_i \\text{ is drawn in one interaction}) = \\frac{1}{n}\\exp(y_i) \\, c,\n",
    "$$  \n",
    "where $c$ is a small constant, so the sum of the $p_i$ is less than 1. \n",
    "\n",
    "As a result, we obtain a small subsample \n",
    "$$\n",
    "\\Delta \\mathbf{y} = (y_{i_1}, y_{i_2}, \\dots, y_{i_{\\tilde{k}}}).\n",
    "$$  \n",
    "For simplicity, let us relabel the elements in this subsample as $\\Delta y_j$, such that  \n",
    "$$\n",
    "\\Delta \\mathbf{y} = (\\Delta y_1, \\Delta y_2, \\dots, \\Delta y_{\\tilde{k}}).\n",
    "$$  \n",
    "\n",
    "**$k$ calculation**\n",
    "\n",
    "Assuming $\\alpha\\cdot n\\, \\mathrm{d}t$ is quite large, we can calculate the expected value of $\\tilde{k}$, the size of the subsample. In one draw attempt we get some element with probability $p=  \\sum_{i=1}^n p_i.$ Letting $p<<1$, we get the Poisson distribution with expectation and variance\n",
    "$$\n",
    "k =\\alpha n\\,\\mathrm{d}t\\, p=\\alpha  n \\,\\mathrm{d}t\\sum_{i=1}^n p_i =\\alpha n \\left(\\frac{1}{n} \\sum_{i=1}^n \\exp(y_i)\\right) \\, c \\, \\mathrm{d}t =\\alpha n \\, \\overline{\\exp(\\mathbf{y})} \\, c \\, \\mathrm{d}t.\n",
    "$$  \n",
    "\n",
    "Because we don't care about $\\alpha$ and $c$, let's push  $\\alpha$ into $c$, so now and below, \"new\" $c$ is $\\alpha c$ (and $c$ is now proportional to the infected population). What is important is that _we want $c$ to be independent from parameters $\\mu,v$_. In new terms\n",
    "\n",
    "$$\n",
    "k = n \\, \\overline{\\exp(\\mathbf{y})} \\, c \\, \\mathrm{d}t.\n",
    "$$  \n",
    "\n",
    "For large sample sizes, the sample mean $\\overline{\\exp(\\mathbf{y})}$ converges to the expected value of the distribution from which the sample is drawn. Therefore, we replace $\\overline{\\exp(\\mathbf{y})}$ with $\\mathbb{E}[\\exp(Y)]$, leading to:  \n",
    "$$\n",
    "k = n \\, \\mathbb{E}[e^Y] \\, c \\, \\mathrm{d}t.\n",
    "$$  \n",
    "\n",
    "Let $\\mathcal{M}(z) := \\mathbb{E}[e^{zY}]$ represents the [moment-generating function (MGF)](https://en.wikipedia.org/wiki/Moment-generating_function)\n",
    "of $Y$, which is given by:  "
   ]
  },
  {
   "cell_type": "code",
   "execution_count": 3,
   "id": "2f2140f0-218a-452b-a424-cfb74ae15a96",
   "metadata": {},
   "outputs": [
    {
     "data": {
      "text/latex": [
       "$\\displaystyle \\mathcal{M}(z)=e^{\\frac{v z^{2}}{2} + z μ}$"
      ],
      "text/plain": [
       "<IPython.core.display.Math object>"
      ]
     },
     "execution_count": 3,
     "metadata": {},
     "output_type": "execute_result"
    }
   ],
   "source": [
    "prepend_latex('\\mathcal{M}(z)=',sp.exp(z*μ + z**2*v/2))"
   ]
  },
  {
   "cell_type": "markdown",
   "id": "cc48723d-6c19-4360-b3c6-9e9dce92bfd9",
   "metadata": {},
   "source": [
    "Define:  \n",
    "$$\n",
    "M(i, x) \\coloneqq \\frac{\\mathrm{d}^i \\mathcal{M}(z)}{\\mathrm{d}z^i} \\bigg|_{z = x},\n",
    "$$  \n",
    "note:\n",
    "$$M(i, x) =\\mathbb{E}[Y^i\\exp(xY)].$$ \n",
    "\n"
   ]
  },
  {
   "cell_type": "code",
   "execution_count": 4,
   "id": "41ea70fc-5f05-471a-ae10-e0587eda47b6",
   "metadata": {},
   "outputs": [],
   "source": [
    "def M(i,x):\n",
    "    μ,v,z = sp.symbols('μ,v,z')\n",
    "    return sp.diff(sp.exp(z*μ + z**2*v/2),z,i).subs(z,x)"
   ]
  },
  {
   "cell_type": "markdown",
   "id": "043220ff-ffbc-4267-9ffe-b56813ffa40e",
   "metadata": {},
   "source": [
    "We will use $M$ without arguments to refer specifically to $M(0, 1):=\\mathcal{M}(1)$. Finally:  \n",
    "$$\n",
    "k = n \\, \\mathbb{E}[e^Y] \\, c \\, \\mathrm{d}t = n \\, \\mathcal{M}_Y(1) \\, c \\, \\mathrm{d}t =n \\, M \\, c \\, \\mathrm{d}t,\n",
    "$$\n",
    "or\n",
    "$$\n",
    "\\frac{k}{n}= M \\, c \\, \\mathrm{d}t.\n",
    "$$\n",
    "\n",
    "**Our next goal is to calculate the difference:**  \n",
    "$$\n",
    "\\mathrm{d}\\mu = \\overline{\\mathbf{y} \\setminus \\Delta \\mathbf{y}} - \\overline{\\mathbf{y}},\n",
    "$$  \n",
    "where $\\mathbf{y} \\setminus \\Delta \\mathbf{y}$ denotes the set $\\mathbf{y}$ after removing the subsample $\\Delta \\mathbf{y}$.  \n",
    "\n",
    "We can express the mean of the remaining set as:  \n",
    "$$\n",
    "\\overline{\\mathbf{y} \\setminus \\Delta \\mathbf{y}} = \\frac{1}{n-k} \\left(\\sum_{\\mathbf{y}} y_i - \\sum_{\\Delta \\mathbf{y}} \\Delta y_i\\right).\n",
    "$$  \n",
    "Rewriting this in terms of averages:  \n",
    "$$\n",
    "\\overline{\\mathbf{y} \\setminus \\Delta \\mathbf{y}} = \\frac{n}{n-k} \\left(\\frac{1}{n} \\sum_{\\mathbf{y}} y_i - \\frac{k}{n} \\frac{1}{k} \\sum_{\\Delta \\mathbf{y}} \\Delta y_i\\right) = \\frac{1}{1 - \\frac{k}{n}} \\left(\\overline{\\mathbf{y}} - \\frac{k}{n} \\overline{\\Delta \\mathbf{y}}\\right).\n",
    "$$  \n",
    "\n",
    "For small $\\frac{k}{n}$, and neglecting terms of second or higher order in $\\frac{k}{n}$, we approximate:  \n",
    "$$\n",
    "\\overline{\\mathbf{y} \\setminus \\Delta \\mathbf{y}} \\approx \\left(1 + \\frac{k}{n}\\right)\\left(\\overline{\\mathbf{y}} - \\frac{k}{n} \\overline{\\Delta \\mathbf{y}}\\right) \\approx \\overline{\\mathbf{y}} + \\frac{k}{n} \\left(\\overline{\\mathbf{y}} - \\overline{\\Delta \\mathbf{y}}\\right).\n",
    "$$  \n",
    "\n",
    "Thus, the difference becomes:  \n",
    "$$\n",
    "\\mathrm{d}\\mu = \\frac{k}{n} \\left(\\overline{\\mathbf{y}} - \\overline{\\Delta \\mathbf{y}}\\right).\n",
    "$$\n"
   ]
  },
  {
   "cell_type": "markdown",
   "id": "4952b19f-b8ad-41d5-b24e-143d60732053",
   "metadata": {},
   "source": [
    "Let's find $\\mathbb{E}[\\mathrm{d}\\mu]$.\n",
    "$$\\mathbb{E}[\\mathrm{d}\\mu]= \\frac{k}{n} \\left(\\mathbb{E}[\\overline{\\mathbf{y}}] - \\mathbb{E}[\\overline{\\Delta \\mathbf{y}}]\\right)$$\n",
    "The first term in the brackets is $\\mu$ and\n",
    "$$ \\mathbb{E}[\\overline{\\Delta \\mathbf{y}}]=\\mathbb{E}\\left[\\frac{1}{k} \\sum_{\\Delta \\mathbf{y}} \\Delta y_i\\right]=\\frac{1}{k} \\sum_{\\Delta \\mathbf{y}} \\mathbb{E}[\\Delta y_i]=\\mathbb{E}[\\Delta y_i]$$\n",
    "$$\\mathbb{E}[\\Delta y_i]=\\frac{\\sum_{\\mathbf{y}}y_j\\exp(y_j)}{\\sum_{\\mathbf{y}}\\exp(y_j)}=\\frac{\\overline{\\mathbf{y}\\exp(\\mathbf{y})}}{\\overline{\\exp(\\mathbf{y})}} \\approx \\frac{\\mathbb{E}[Y\\exp(Y)]}{\\mathbb{E}[\\exp(Y)]}=\\frac{M(1,1)}{M}$$\n"
   ]
  },
  {
   "cell_type": "code",
   "execution_count": 5,
   "id": "5ed3c174-f213-4a65-bec4-0a5cc018cc8c",
   "metadata": {},
   "outputs": [
    {
     "data": {
      "text/latex": [
       "$\\displaystyle \\mathbb{E}[\\Delta y_i]=\\mathbb{E}[\\overline{\\Delta \\mathbf{y}}]=v + μ$"
      ],
      "text/plain": [
       "<IPython.core.display.Math object>"
      ]
     },
     "execution_count": 5,
     "metadata": {},
     "output_type": "execute_result"
    }
   ],
   "source": [
    "prepend_latex('\\mathbb{E}[\\Delta y_i]=\\mathbb{E}[\\overline{\\Delta \\mathbf{y}}]=',sp.simplify(M(1,1)/M(0,1)))"
   ]
  },
  {
   "cell_type": "markdown",
   "id": "586d1ac6-7793-462b-a62b-1c96e9fa971f",
   "metadata": {},
   "source": [
    "As a result\n",
    "$$\\mathbb{E}[\\mathrm{d}\\mu]= \\frac{k}{n}(\\mu - (\\mu+v))=-\\frac{k}{n}v$$\n",
    "\n",
    "**Next we try to find $\\operatorname{Var}[\\mathrm{d}\\mu]$. For the beginning, suppose k is fixed.**\n",
    "$$\\operatorname{Var}[\\mathrm{d}\\mu]=\\frac{k^2}{n^2}\\operatorname{Var}[\\overline{\\mathbf{y}}\n",
    "- \\overline{\\Delta \\mathbf{y}}]=\\frac{k^2}{n^2} \\operatorname{Var}[\\overline{\\Delta \\mathbf{y}}]$$\n",
    "\n",
    "Because we consider $\\mathbf{y}$ as fixed too. \n",
    "$$\\operatorname{Var}[\\overline{\\Delta \\mathbf{y}}]=\\frac{1}{k}\\operatorname{Var}[\\Delta y_j]$$\n",
    "As a result\n",
    "$$\\operatorname{Var}[\\mathrm{d}\\mu]=\\frac{1}{n}\\frac{k}{n}\\operatorname{Var}[\\Delta y_j]$$\n",
    "It's time to find $\\operatorname{Var}[\\Delta y_j]$\n",
    "$$\\operatorname{Var}[\\Delta y_j]=\\mathbb{E}[\\Delta y_j^2]-\\mathbb{E}[\\Delta y_j]^2$$\n",
    "$$ \\mathbb{E}[\\Delta y_j^2] = \\sum_{\\mathbf{y}}\\frac{\\exp(y_i)}{\\sum_{\\mathbf{y}}\\exp(y_l)} y_i^2=\\frac{\\sum_{\\mathbf{y}} y_i^2\\exp(y_i)}{\\sum_{\\mathbf{y}}\\exp(y_i)}\\approx \\frac{ \\mathbb{E}[Y^2\\exp(Y)]}{\\mathbb{E}[\\exp(Y)]}=\\frac{M(2,1)}{M}$$"
   ]
  },
  {
   "cell_type": "code",
   "execution_count": 6,
   "id": "29ae738c-75df-4d9d-8c16-1e44441fad7f",
   "metadata": {},
   "outputs": [
    {
     "data": {
      "text/latex": [
       "$\\displaystyle \\mathbb{E}[\\Delta y_j^2]=v + \\left(v + μ\\right)^{2}$"
      ],
      "text/plain": [
       "<IPython.core.display.Math object>"
      ]
     },
     "execution_count": 6,
     "metadata": {},
     "output_type": "execute_result"
    }
   ],
   "source": [
    "prepend_latex('\\mathbb{E}[\\Delta y_j^2]=',sp.simplify(M(2,1)/M(0,1)))"
   ]
  },
  {
   "cell_type": "markdown",
   "id": "11a64203-481d-436a-8fe9-7b56a4037c1f",
   "metadata": {},
   "source": [
    "$$ \\operatorname{Var}[\\Delta y_j]=v + (v + μ)^{2}-(v+\\mu)^2=v$$\n",
    "$$\\operatorname{Var}[\\mathrm{d}\\mu]=\\frac{1}{n}\\frac{k}{n}v$$\n",
    "\n",
    "**Now let's lift the constrains on $k$**\n",
    "\n",
    "Now $k$ is not fixed and distributed according to Poisson distribution. We denote it as $\\tilde{k}$. So $\\tilde{k} \\sim \\operatorname {Pois} (k)$, wher $k=\\mathbb{E}[\\tilde{k}]=\\operatorname{Var}[\\tilde{k}]=n M  c\\,  \\mathrm{d}t$\n",
    "\n",
    "$$\\operatorname{Var}[\\mathrm{d}\\mu]= \\operatorname{Var}\\left[\\frac{\\tilde{k}}{n}(\\overline{\\mathbf{y}}-\\overline{\\Delta \\mathbf{y}})\\right]=\\frac{1}{n^2}\\operatorname{Var}[\\tilde{k}(\\mu-\\overline{\\Delta \\mathbf{y}})]$$\n",
    "\n",
    "Because $(\\mu-\\overline{\\Delta \\mathbf{y}})$ is independent of $\\tilde{k}$, we can apply the formula for independent random variables:\n",
    "$$\\operatorname{Var}[XY]=\\operatorname{Var}[X]\\cdot \\mathbb{E}[Y]^{2}+\\mathbb{E}[X]^{2}\\cdot \\operatorname{Var}[Y]+\\operatorname{Var} [X]\\cdot \\operatorname{Var}[Y]$$\n",
    "\n",
    "\n",
    "\n",
    "That way \n",
    "$$\\operatorname{Var}[\\tilde{k}(\\mu-\\overline{\\Delta \\mathbf{y}})] =\n",
    "\\operatorname{Var}[\\tilde{k}]\\mathbb{E}[\\mu-\\overline{\\Delta \\mathbf{y}}]^2+\n",
    "\\mathbb{E}[\\tilde{k}]^2\\operatorname{Var}[\\overline{\\Delta \\mathbf{y}}]+\n",
    "\\operatorname{Var}[\\tilde{k}]\\operatorname{Var}[\\overline{\\Delta \\mathbf{y}}]\n",
    "=k(\\mu-(\\mu+v))^2+k^2\\frac{v}{k}+k\\frac{v}{k}=kv^2+kv+v\n",
    "$$\n",
    "\n",
    "As we consider $k>>1$, we drop the last term. Finally\n",
    "$$\\operatorname{Var}[\\mathrm{d}\\mu]=\\frac{1}{n}\\frac{k}{n}(v+1)v=\\frac{1}{n}(v+1)v M c\\,\\mathrm{d}t$$\n",
    "\n",
    "\n",
    "\n",
    "\n",
    "\n",
    "\n",
    "\n"
   ]
  },
  {
   "cell_type": "markdown",
   "id": "103c0a59-f17d-4e89-b2ea-e1b79bd7bc9e",
   "metadata": {},
   "source": [
    "The independence of $(\\mu-\\overline{\\Delta \\mathbf{y}})$ and $\\tilde{k}$ means that if we are thinking of stochastic differential equations describing the dynamics of $\\mathrm{d}\\mu$ (among the others), it needs two independent Brownian noises -- $W_k$ and $W_{\\mu}$ with variances $\\frac{1}{n}v^2 M c$ and $\\frac{1}{n}v M c$ respectively, and looks like\n",
    "$$\\mathrm{d}\\mu=-v M c\\,\\mathrm{d}t+\\sqrt{\\frac{1}{n}v^2 M c}\\,\\mathrm{d}W_k+\\sqrt{\\frac{1}{n}v M c}\\,\\mathrm{d}W_{\\mu}$$"
   ]
  },
  {
   "cell_type": "markdown",
   "id": "24c3730c-c8f1-421b-88db-20ebe6097e30",
   "metadata": {},
   "source": [
    "All the arguments above are valid if we consider $\\mathrm{d} m_p$ - changes p-th raw moment instead of $\\mathrm{d}\\mu=\\mathrm{d} m_1$. Let's briefly repeat the key points.\n",
    "$$\n",
    "\\mathrm{d}m_p \\coloneqq \\overline{(\\mathbf{y} \\setminus \\Delta \\mathbf{y})^p} - \\overline{\\mathbf{y}^p},\n",
    "$$  \n",
    "where $\\mathbf{y}^p=(y_1^p,y_2^p,\\cdots,y_n^p)$\n",
    "$$\\mathrm{d}m_p = \\frac{k}{n} \\left(\\overline{\\mathbf{y}^p} - \\overline{\\Delta \\mathbf{y}^p}\\right)$$"
   ]
  },
  {
   "cell_type": "markdown",
   "id": "b765729e-fbf6-42bb-a740-3fc025882fb4",
   "metadata": {},
   "source": [
    "$$\\mathbb{E}[\\overline{\\Delta \\mathbf{y}^p}]=\\mathbb{E}[\\Delta y_i^p]=\\frac{M(p,1)}{M}$$\n",
    "From properties of MGF $m_p=M(p,0)$, so\n",
    "$$\\mathbb{E}[\\mathrm{d}m_p]= \\frac{k}{n}\\left(M(p,0) - \\frac{M(p,1)}{M}\\right)=\\left(M(p,0) - \\frac{M(p,1)}{M}\\right)M c\\,\\mathrm{d}t$$"
   ]
  },
  {
   "cell_type": "markdown",
   "id": "280ce127-1e3a-4183-9fb9-9d68a18aa2bf",
   "metadata": {},
   "source": [
    "$$\\operatorname{Var}[\\mathrm{d}m_p]= \\operatorname{Var}\\left[\\frac{\\tilde{k}}{n}(\\overline{\\mathbf{y}^p}-\\overline{\\Delta \\mathbf{y}^p})\\right]=\\frac{1}{n^2}\\operatorname{Var}[\\tilde{k}(M(p,0)-\\overline{\\Delta \\mathbf{y}^p})]$$"
   ]
  },
  {
   "cell_type": "markdown",
   "id": "de678b5e-52b1-446d-83ca-3362ce2f2787",
   "metadata": {},
   "source": [
    "$$\\operatorname{Var}[M(p,0)-\\overline{\\Delta \\mathbf{y}^p}]=\\operatorname{Var}[\\overline{\\Delta \\mathbf{y}^p}]=\\frac{1}{k}\\operatorname{Var}[\\Delta y_j^p]$$\n",
    "$$\\operatorname{Var}[\\Delta y_j^p]=\\mathbb{E}[\\Delta y_j^{2p}]-\\mathbb{E}[\\Delta y_j^p]^2=\\frac{M(2p,1)}{M}-\\frac{M(p,1)^2}{M^2}$$"
   ]
  },
  {
   "cell_type": "markdown",
   "id": "a642291e-2181-4051-9ee2-8c8e4cc671a9",
   "metadata": {},
   "source": [
    "$$\\operatorname{Var}[\\tilde{k}(M(p,0)-\\overline{\\Delta \\mathbf{y}})] =\n",
    "\\operatorname{Var}[\\tilde{k}]\\mathbb{E}[M(p,0)-\\overline{\\Delta \\mathbf{y}^p}]^2+\n",
    "\\mathbb{E}[\\tilde{k}]^2\\operatorname{Var}[\\overline{\\Delta \\mathbf{y}^p}]+\n",
    "\\operatorname{Var}[\\tilde{k}]\\operatorname{Var}[\\overline{\\Delta \\mathbf{y}^p}]$$\n",
    "$$=k\\left(M(p,0)-\\frac{M(p,1)}{M}\\right)^2+k\\left(\\frac{M(2p,1)}{M}-\\frac{M(p,1)^2}{M^2}\\right)+\\left(\\frac{M(2p,1)}{M}-\\frac{M(p,1)^2}{M^2}\\right)\n",
    "$$\n",
    "\n"
   ]
  },
  {
   "cell_type": "markdown",
   "id": "6a5ffea9-e75a-4184-b82a-20e123dcbcdd",
   "metadata": {},
   "source": [
    "We omit the last term for the same reasons as before and finally get\n",
    "$$\\operatorname{Var}[\\mathrm{d}m_p]=\\frac{1}{n}\\frac{k}{n}\\left(\\left(M(p,0)-\\frac{M(p,1)}{M}\\right)^2+\\left(\\frac{M(2p,1)}{M}-\\frac{M(p,1)^2}{M^2}\\right)\\right)=\\frac{1}{n}\\left(\\left(M(p,0)-\\frac{M(p,1)}{M}\\right)^2+\\left(\\frac{M(2p,1)}{M}-\\frac{M(p,1)^2}{M^2}\\right)\\right) M c\\,\\mathrm{d}t$$\n",
    "\n",
    "To obtain the final formulas we will need sympy help:"
   ]
  },
  {
   "cell_type": "code",
   "execution_count": 7,
   "id": "c6b23f4f-aee1-4288-911b-de64b8ed23fb",
   "metadata": {},
   "outputs": [],
   "source": [
    "def E_term(p):\n",
    "    return sp.simplify(M(p,0)-M(p,1)/M(0,1))\n",
    "def Var_Wmu_term(p):\n",
    "    return sp.simplify(M(2*p,1)/M(0,1)-(M(p,1)/M(0,1))**2)\n",
    "def TotalVariance(p):\n",
    "    return Math(\"\\operatorname{Var}[\\mathrm{d}m_\"+str(p)+\"]=\\\\frac{1}{n}\\\\frac{k}{n}\\left(\"+sp.latex(E_term(p)**2+Var_Wmu_term(p))+\"\\\\right)\")\n",
    "def Equation(p):\n",
    "    return Math(\"\\mathrm{d}m_\"+str(p)+\"=\\left(\"+sp.latex(E_term(p))+\n",
    "                \"\\\\right)M c\\,\\mathrm{d}t+\\sqrt{\\\\frac{M c}{n}}\\left(\"+sp.latex(E_term(p))+\"\\\\right)\\mathrm{d}W_k+\"+\n",
    "                   \"\\sqrt{\\\\frac{M c}{n}}\\sqrt{\"+sp.latex(Var_Wmu_term(p))+\"}\\,\\mathrm{d}W_{\\mu}\")\n"
   ]
  },
  {
   "cell_type": "code",
   "execution_count": 8,
   "id": "a591fc59-a932-4373-9502-8a58022d0861",
   "metadata": {},
   "outputs": [
    {
     "data": {
      "text/latex": [
       "$\\displaystyle \\operatorname{Var}[\\mathrm{d}m_2]=\\frac{1}{n}\\frac{k}{n}\\left(2 v \\left(2 v^{2} + 4 v μ + v + 2 μ^{2}\\right) + \\left(μ^{2} - \\left(v + μ\\right)^{2}\\right)^{2}\\right)$"
      ],
      "text/plain": [
       "<IPython.core.display.Math object>"
      ]
     },
     "execution_count": 8,
     "metadata": {},
     "output_type": "execute_result"
    }
   ],
   "source": [
    "TotalVariance(2)"
   ]
  },
  {
   "cell_type": "code",
   "execution_count": 9,
   "id": "62c608ca-3e29-4c7f-91c2-906550e92e4e",
   "metadata": {
    "scrolled": true
   },
   "outputs": [
    {
     "data": {
      "text/latex": [
       "$\\displaystyle \\mathrm{d}m_2=\\left(μ^{2} - \\left(v + μ\\right)^{2}\\right)M c\\,\\mathrm{d}t+\\sqrt{\\frac{M c}{n}}\\left(μ^{2} - \\left(v + μ\\right)^{2}\\right)\\mathrm{d}W_k+\\sqrt{\\frac{M c}{n}}\\sqrt{2 v \\left(2 v^{2} + 4 v μ + v + 2 μ^{2}\\right)}\\,\\mathrm{d}W_{\\mu}$"
      ],
      "text/plain": [
       "<IPython.core.display.Math object>"
      ]
     },
     "execution_count": 9,
     "metadata": {},
     "output_type": "execute_result"
    }
   ],
   "source": [
    "Equation(2)"
   ]
  },
  {
   "cell_type": "markdown",
   "id": "b96dffa5-0c12-4212-9dc9-18672ee09f63",
   "metadata": {},
   "source": [
    "Let's make a computational test. The following functions need to get roughly $k$ variants of choosing  $\\Delta \\mathrm{y}$ from an  $n=k*k$ size population, with each of the variant sizes roughly $k$."
   ]
  },
  {
   "cell_type": "code",
   "execution_count": 10,
   "id": "97ef1acb-3b3a-48d5-91cc-d2873595b3e2",
   "metadata": {},
   "outputs": [],
   "source": [
    "def get_dm_pfun(k,v,mu=None,fixed_k=False):#k - average subsample size\n",
    "    if mu==None:mu=-0.5*v\n",
    "    n,s=k*k,k*k #n - population size, s - sum of subsample sizes, it will be roughly s/k subsamples\n",
    "    susceptability_log=np.random.normal(mu,np.sqrt(v),size=n)\n",
    "    susceptability_cs=np.cumsum(np.exp(susceptability_log))\n",
    "    subsamples=susceptability_log[np.searchsorted(susceptability_cs,np.random.rand(s)*susceptability_cs[-1])] #all the subsamples\n",
    "    if fixed_k:\n",
    "        k_arr=np.ones(int(s/k)+1,dtype=int)*k\n",
    "    else:\n",
    "        k_arr=np.random.poisson(k, int(s/k)+10) #array of subsamles sizes\n",
    "    bounds=np.cumsum(k_arr)#bounds of individual subsamples i.e. first subsumple is subsamples[0,bounds[0]],... \n",
    "    top_bound=np.searchsorted(bounds,s-1)-1 #bound on sum of subsample sizes\n",
    "    def res(p=1):#p - order of the raw moment, function returns dm_p \n",
    "        population_p_mean=np.mean(np.power(susceptability_log,p))\n",
    "        sums=np.diff(np.cumsum(np.power(subsamples,p))[bounds[:top_bound]],1,prepend=0.0) #summing values inside each of the subsumples\n",
    "        return (population_p_mean*k_arr[:top_bound]-sums)/n\n",
    "    return res #returns function (closure) so we can get different moments for the same settings \n",
    " "
   ]
  },
  {
   "cell_type": "markdown",
   "id": "f3882460-2f76-4f96-8851-d23e1d8d16cd",
   "metadata": {},
   "source": [
    "After that we can calculate p-th moments and their sample mean and variance and divide it by values calculated by our formulas. We should get something around 1."
   ]
  },
  {
   "cell_type": "code",
   "execution_count": 11,
   "id": "7d60b3a2-5858-4035-9e32-67dddef27644",
   "metadata": {
    "scrolled": true
   },
   "outputs": [
    {
     "name": "stdout",
     "output_type": "stream",
     "text": [
      "[0.9977530218218735, 1.023111541663745]\n",
      "[1.0028114572327924, 0.9709809068306802]\n",
      "[1.0000706029928783, 0.9811004278610954]\n",
      "[1.006176354376491, 0.9631020450053605]\n",
      "[0.9988160486502164, 1.0144081690584617]\n",
      "[1.008254566303617, 1.0325188382245032]\n",
      "[0.9969110277963842, 0.9734758397925722]\n",
      "[0.9979827289063373, 0.988597769046455]\n",
      "[0.9938361735031536, 0.9552387724751508]\n",
      "[0.9870561536928013, 0.8798510815875089]\n"
     ]
    }
   ],
   "source": [
    "k=2000\n",
    "moment_order = 3\n",
    "μ,v = sp.symbols('μ,v')\n",
    "E_denom_func=sp.lambdify((μ,v),E_term(moment_order))\n",
    "Var_denom_func=sp.lambdify((μ,v),E_term(moment_order)**2+Var_Wmu_term(moment_order))\n",
    "mu=0.1\n",
    "for v in 0.2*np.arange(10)+0.2:\n",
    "    d_m_pfun=get_dm_pfun(k,v,mu)\n",
    "    d_m=d_m_pfun(moment_order)\n",
    "    print([np.mean(d_m)*k/E_denom_func(mu,v),np.var(d_m,ddof=1)*k*k*k/Var_denom_func(mu,v)])"
   ]
  },
  {
   "cell_type": "markdown",
   "id": "4178b374-13e1-430a-892f-b70fb0a149a5",
   "metadata": {},
   "source": [
    "**Let's calculate the change in the susceptible population variance.**\n",
    "$$\n",
    "\\mathrm{d}v \\coloneqq \\operatorname{SVar}[\\mathbf{y} \\setminus \\Delta \\mathbf{y}] - \\operatorname{SVar}[\\mathbf{y}],\n",
    "$$ \n",
    "where $\\operatorname{SVar}[\\mathbf{y}] \\coloneqq\\overline{\\mathbf{y}^2}-\\overline{\\mathbf{y}}^2$ - the sample variance. So\n",
    "\n",
    "$$\n",
    "\\mathrm{d}v = \\overline{\\left(\\mathbf{y} \\setminus \\Delta \\mathbf{y}\\right)^2} - \\overline{\\left(\\mathbf{y} \\setminus \\Delta \\mathbf{y}\\right)}^2 -\\overline{\\mathbf{y}^2}+\\overline{\\mathbf{y}}^2=\\mathrm{d}m_2-(\\overline{\\left(\\mathbf{y} \\setminus \\Delta \\mathbf{y}\\right)}^2-\\overline{\\mathbf{y}}^2)\n",
    "$$ \n",
    "\n",
    "$$\n",
    "\\overline{\\left(\\mathbf{y} \\setminus \\Delta \\mathbf{y}\\right)}^2-\\overline{\\mathbf{y}}^2=\n",
    "\\overline{(\\overline{\\mathbf{y}}+\\mathrm{d}\\mu)}^2 - \\overline{\\mathbf{y}}^2= (\\mu+\\mathrm{d}\\mu)^2-\\mu^2\n",
    "$$\n",
    "Omitting $\\mathrm{d}\\mu^2$, we get\n",
    "$$\n",
    "\\mathrm{d}v=\\mathrm{d}m_2 -2\\mu\\mathrm{d}\\mu\n",
    "$$\n",
    "and\n",
    "$$\n",
    "\\mathbb{E}[\\mathrm{d}v]=\\mathbb{E}[\\mathrm{d}m_2]-2\\mu\\mathbb{E}[\\mathrm{d}\\mu]=\\frac{k}{n}(\\mu^{2} - (v + \\mu)^{2}+2\\mu v)=-\\frac{k}{n}v^2\n",
    "$$\n",
    "\n"
   ]
  },
  {
   "cell_type": "markdown",
   "id": "4001ee25-290c-46a0-9320-5cddbb047b0e",
   "metadata": {},
   "source": [
    "$$\n",
    "\\operatorname{Var}[\\mathrm{d}v]=\\operatorname{Var}\\left[\\frac{\\tilde{k}}{n}\\left((\\overline{\\mathbf{y}^2}-\\overline{\\Delta \\mathbf{y}^2})\n",
    "-2\\mu(\\overline{\\mathbf{y}}-\\overline{\\Delta \\mathbf{y}})\\right) \\right]=\\operatorname{Var}\\left[\\frac{\\tilde{k}}{n}(v+\\mu^2 -\\overline{\\Delta \\mathbf{y}^2}-2\\mu^2+2\\mu\\overline{\\Delta \\mathbf{y}}) \\right]=\\frac{1}{n^2}\\operatorname{Var}\\left[\\tilde{k}\\left(v-\\mu^2 -(\\overline{\\Delta \\mathbf{y}^2-2\\mu\\Delta \\mathbf{y}})\\right) \\right]\n",
    "$$\n",
    "\n",
    "$$\n",
    "\\operatorname{Var}\\left[v-\\mu^2 -(\\overline{\\Delta \\mathbf{y}^2-2\\mu\\Delta \\mathbf{y}})\\right]=\\operatorname{Var}\\left[\\overline{\\Delta \\mathbf{y}^2-4\\mu\\Delta \\mathbf{y}} \\right]=\\frac{1}{k}\\operatorname{Var}[\\Delta y_j^2-2\\mu \\Delta y_j]\n",
    "$$\n",
    "\n",
    "$$\n",
    "\\operatorname{Var}[\\Delta y_j^2-2\\mu\\Delta y_j]=\\operatorname{Var}[\\Delta y_j^2]-4\\mu\\operatorname{Cov}[\\Delta y_j^2,2\\mu \\Delta y_j] +4\\mu^2\\operatorname{Var}[\\Delta y_j]\n",
    "$$\n",
    "Let's find the covariance of one of the subsamples with its square, namely $\\Delta y_j$ and $\\Delta y_j^2$ \n",
    "\n",
    "$$\n",
    "\\operatorname{Cov}[\\Delta y_j^2,\\Delta y_j]=\n",
    "\\mathbb{E}[\\Delta y_i^3] -\\mathbb{E}[\\Delta y_i] \\mathbb{E}[\\Delta y_i^2]=\\frac{M(3,1)M-M(1,1)M(2,1)}{M^2}\n",
    "$$\n",
    "and, by the way\n",
    "$$\\operatorname{Cov}[\\Delta y_j^p,\\Delta y_j^q]=\\frac{M(p+q,1)M-M(p,1)M(q,1)}{M^2}$$\n",
    "\n",
    "recalling\n",
    "\n",
    "$$\\operatorname{Var}[\\Delta y_j^p]=\\operatorname{Cov}[\\Delta y_j^p,\\Delta y_j^p]=\\frac{M(2p,1)M-M(p,1)^2}{M^2}$$\n"
   ]
  },
  {
   "cell_type": "code",
   "execution_count": 12,
   "id": "6281cd35-4154-4cf7-bcdd-cb6e1a58f82e",
   "metadata": {},
   "outputs": [],
   "source": [
    "def Cov(p,q):\n",
    "    return sp.simplify((M(p+q,1)*M(0,1)-M(p,1)*M(q,1))/M(0,1)**2)"
   ]
  },
  {
   "cell_type": "code",
   "execution_count": 13,
   "id": "21ad6a78-7f84-4da7-8bbb-d9598f6b5a29",
   "metadata": {
    "scrolled": true
   },
   "outputs": [
    {
     "data": {
      "text/latex": [
       "$\\displaystyle \\operatorname{Var}[\\Delta y_j^2-2\\mu\\Delta y_j]=v^{2} \\left(4 v + 2\\right)$"
      ],
      "text/plain": [
       "<IPython.core.display.Math object>"
      ]
     },
     "execution_count": 13,
     "metadata": {},
     "output_type": "execute_result"
    }
   ],
   "source": [
    "prepend_latex(\"\\operatorname{Var}[\\Delta y_j^2-2\\mu\\Delta y_j]=\",sp.simplify(Cov(2,2)-4*μ*Cov(2,1)+4*μ**2*Cov(1,1)))"
   ]
  },
  {
   "cell_type": "markdown",
   "id": "4933c0af-5911-4e89-ade4-451625cbd2bb",
   "metadata": {},
   "source": [
    "According to the formula for independent variables variance\n",
    "$$\\operatorname{Var}[\\tilde{k}(v-\\mu^2 -(\\overline{\\Delta \\mathbf{y}^2-2\\mu\\Delta \\mathbf{y}}))] =\n",
    "\\operatorname{Var}[\\tilde{k}]\\mathbb{E}[v-\\mu^2-(\\overline{\\Delta \\mathbf{y}^2-2\\mu\\Delta \\mathbf{y}})]^2+\n",
    "\\mathbb{E}[\\tilde{k}]^2\\operatorname{Var}[\\overline{\\Delta \\mathbf{y}^2-2\\mu\\Delta \\mathbf{y}}]+\n",
    "\\operatorname{Var}[\\tilde{k}]\\operatorname{Var}[\\overline{\\Delta \\mathbf{y}^2-2\\mu\\Delta \\mathbf{y}}]$$\n",
    "$$=k v^4+k(4v+2)v^2+(4v+2)v^2\n",
    "$$\n",
    "\n",
    "Omitting the last term, as always, we get\n",
    "$$\\operatorname{Var}[\\mathrm{d}v]=\\frac{1}{n}\\frac{k}{n} (v^4+(4v+2)v^2)$$\n",
    "\n",
    "$$\n",
    "\\mathrm{d}v=-v^2 M c\\,\\mathrm{d}t+\\sqrt{\\frac{M c}{n}}v^2\\mathrm{d}W_k+\\sqrt{\\frac{M(4v+2)c}{n}}v\\,\\mathrm{d}W_v\n",
    "$$\n",
    "\n",
    "Get the formula—test the formula:"
   ]
  },
  {
   "cell_type": "code",
   "execution_count": 14,
   "id": "45a1dbc5-d6b6-4d5f-9631-44ea41578bba",
   "metadata": {
    "scrolled": true
   },
   "outputs": [
    {
     "name": "stdout",
     "output_type": "stream",
     "text": [
      "1.03413283904463\n",
      "1.018701917875257\n",
      "1.005069602046329\n",
      "1.0415553272170248\n",
      "1.001424898996674\n",
      "0.9355358932051501\n",
      "0.9385800876163445\n",
      "0.9782651711714433\n",
      "0.9822634599057387\n",
      "1.0322563353015852\n"
     ]
    }
   ],
   "source": [
    "k=2000\n",
    "μ,v = sp.symbols('μ,v')\n",
    "mu=0.7\n",
    "for v in 0.2*np.arange(10)+0.2:\n",
    "    d_m_pfun=get_dm_pfun(k,v,mu)\n",
    "    dv=d_m_pfun(2)-2*mu*d_m_pfun(1)\n",
    "    print(np.var(dv,ddof=1)*k*k*k/(v**2*(v**2+4*v+2)))"
   ]
  },
  {
   "cell_type": "markdown",
   "id": "ca56bbb0-2a93-431e-9209-d617a1725b1e",
   "metadata": {},
   "source": [
    "Also we need a covariance of the noises associated with $W_{\\mu}$ and $W_v$ namely covariance of\n",
    "$$\\frac{k}{n} \\left(\\mu - \\overline{\\Delta \\mathbf{y}}\\right)$$\n",
    "and\n",
    "$$\n",
    "\\frac{k}{n}\\left(v-\\mu^2 -(\\overline{\\Delta \\mathbf{y}^2-2\\mu\\Delta \\mathbf{y}})\\right)\n",
    "$$\n",
    "Here $k$ is constant.\n",
    "$$\n",
    "\\operatorname{Cov}\\left[\\frac{k}{n} \\left(\\mu - \\overline{\\Delta \\mathbf{y}}\\right),\\frac{k}{n}\\left(v-\\mu^2 -(\\overline{\\Delta \\mathbf{y}^2-2\\mu\\Delta \\mathbf{y}})\\right)\\right]\n",
    "=\\frac{k^2}{n^2}\\operatorname{Cov}\\left[\\overline{\\Delta \\mathbf{y}},\\overline{\\Delta \\mathbf{y}^2-2\\mu\\Delta \\mathbf{y}}\\right]\n",
    "$$\n",
    "\n",
    "$$\n",
    "=\\frac{k^2}{n^2}\\left(\\operatorname{Cov}\\left[\\overline{\\Delta \\mathbf{y}},\\overline{\\Delta \\mathbf{y}^2}\\right]-2\\mu\\operatorname{Var}[\\overline{\\Delta \\mathbf{y}}]\\right)\n",
    "=\\frac{k}{n^2}\\left(\\operatorname{Cov}\\left[\\Delta y_j,\\Delta y_j^2\\right]-2\\mu v\\right)\n",
    "=\\frac{2}{n}\\frac{k}{n}v^2\n",
    "$$\n",
    "And correlation coefficient is\n",
    "$$\n",
    "r=\\frac{2v^2}{\\sqrt{v^3(4v+2)}}=\\frac{v}{\\sqrt{v^2+v/2}}\n",
    "$$"
   ]
  },
  {
   "cell_type": "code",
   "execution_count": 15,
   "id": "f855b4f9-3a9d-4b49-80de-11243aebde6f",
   "metadata": {},
   "outputs": [
    {
     "data": {
      "text/latex": [
       "$\\displaystyle \\operatorname{Cov}[\\Delta y_j,\\Delta y_j^2]=2 v \\left(v + μ\\right)$"
      ],
      "text/plain": [
       "<IPython.core.display.Math object>"
      ]
     },
     "execution_count": 15,
     "metadata": {},
     "output_type": "execute_result"
    }
   ],
   "source": [
    "prepend_latex(\"\\operatorname{Cov}[\\Delta y_j,\\Delta y_j^2]=\",sp.simplify(Cov(1,2)))"
   ]
  },
  {
   "cell_type": "code",
   "execution_count": 16,
   "id": "8e6db6f1-bb32-472d-a5d5-cdc570b215b4",
   "metadata": {},
   "outputs": [
    {
     "name": "stdout",
     "output_type": "stream",
     "text": [
      "0.9555897677725984\n",
      "0.995575704917768\n",
      "0.9876783311134341\n",
      "1.0406218945615275\n",
      "1.0095805534709943\n",
      "0.995146080265784\n",
      "1.040915526091803\n",
      "0.9724135286407537\n",
      "0.9705004663796253\n",
      "0.9669185050875257\n"
     ]
    }
   ],
   "source": [
    "def cov(x,y):\n",
    "    return 0.5*(np.var(x+y,ddof=1)-np.var(x,ddof=1)-np.var(y,ddof=1))\n",
    "k=2000\n",
    "μ,v = sp.symbols('μ,v')\n",
    "mu=0.7\n",
    "for v in 0.2*np.arange(10)+0.2:\n",
    "    d_m_pfun=get_dm_pfun(k,v,mu,True)\n",
    "    dmu=d_m_pfun(1)\n",
    "    dv=d_m_pfun(2)-2*mu*dmu\n",
    "    print(cov(dmu,dv)*k*k*k/2/v**2)\n",
    "\n"
   ]
  },
  {
   "cell_type": "markdown",
   "id": "c79492af-7fd7-429a-8618-cbd7e13d05ea",
   "metadata": {},
   "source": [
    "Let's repeat the SIR model with heterogenity of getting infected (HC SIR). HC SIR model heterogenity is described by lognormal distribution with initial (logarithmic) variance parameter $v_0$. HC SIR equations are\n",
    "$$\\begin{align}\n",
    "& \\frac{d S}{dt}=- M \\cdot I\\cdot S, \\\\[3pt]\n",
    "& \\frac{dI}{dt} =- \\frac{dS}{dt}- I,\\\\[3pt]\n",
    "& \\frac{d\\mu}{dt}=- M\\cdot I\\cdot v, \\\\[3pt]\n",
    "& \\frac{d v}{dt}=-M\\cdot I\\cdot v^2, \\\\[3pt]\n",
    "& M= \\exp(\\mu+\\frac{v}{2}), \\\\[3pt]\n",
    "&R = 1-S-I\n",
    "\\end{align}$$\n",
    "$$I(0)=I_0,\\:S(0)=1-I_0,\\:\\mu(0)=\\ln(r_0)-v_0/2,\\:v(0)=v_0$$ \n",
    "\n",
    "Here the (city) population being normalized to 1. \n",
    "\n",
    "$S$ - The proportion of the of susceptible population\n",
    "\n",
    "$I$ - The proportion of the of infectious population\n",
    "\n",
    "$R$ - The proportion of the of removed (and immune) or deceased population\n",
    "\n",
    "Let $N$ is the actual population size. The first equation can be rewritten as\n",
    "$$N\\mathrm{d} S =- M \\cdot I\\cdot S \\cdot N \\mathrm{d}t$$\n",
    "\n",
    "But $N\\mathrm{d} S$ is the number of incidence $k$ and $S\\cdot N$ is $n$ -- susceptible population size. So\n",
    "$$\\frac{k}{n}=M\\cdot I \\mathrm{d}t$$\n",
    "compare with \n",
    "$$\n",
    "\\frac{k}{n}= M \\, c \\, \\mathrm{d}t.\n",
    "$$\n",
    "we conclude that $I$ is exactly the same constant $c$ that we didn't care about before, and now its time has come. \n",
    "\n",
    "Our first stochastic equation become\n",
    "$$N\\mathrm{d} S =- M \\cdot I\\cdot S \\cdot N \\mathrm{d}t +\\sqrt{M \\cdot I\\cdot S \\cdot N}\\mathrm{d}W_k$$\n",
    "dividing both parts by $N$ we get\n",
    "$$\\mathrm{d} S =- M \\cdot I\\cdot S \\mathrm{d}t +\\sqrt{\\frac{M \\cdot I\\cdot S}{N}}\\mathrm{d}W_k$$\n",
    "$$\\mathrm{d} I =(M \\cdot I\\cdot S - I)\\mathrm{d}t -\\sqrt{\\frac{M \\cdot I\\cdot S}{N}}\\mathrm{d}W_k + \\sqrt{\\frac{I}{N}}\\mathrm{d}W_I$$\n",
    "$$ \\mathrm{d} \\mu = - v\\,M\\cdot I\\,\\mathrm{d}t +v\\sqrt{\\frac{M \\cdot I}{N\\cdot S}}\\,\\mathrm{d}W_k+\\sqrt{\\frac{v\\,M \\cdot I}{N\\cdot S}}\\,\\mathrm{d}W_{\\mu}$$\n",
    "$$\n",
    "\\mathrm{d}v=-v^2\\,M\\cdot I\\,\\mathrm{d}t+v^2\\sqrt{\\frac{M \\cdot I}{N\\cdot S}}\\mathrm{d}W_k+v\\sqrt{\\frac{M(4v+2)I}{N\\cdot S}}\\mathrm{d}W_{v}\n",
    "$$"
   ]
  },
  {
   "cell_type": "markdown",
   "id": "cb92a305-84bc-4f85-9338-66446ea6d8bd",
   "metadata": {},
   "source": [
    "## Heterogeneity in spreading the disease"
   ]
  },
  {
   "cell_type": "markdown",
   "id": "06dc8a1f-feb2-44ea-bdc2-642941c60011",
   "metadata": {},
   "source": [
    "Stopped here -------------------------------------------------"
   ]
  },
  {
   "cell_type": "code",
   "execution_count": null,
   "id": "595b031a-852c-4317-ba18-e57a12bd5eed",
   "metadata": {},
   "outputs": [],
   "source": []
  },
  {
   "cell_type": "code",
   "execution_count": null,
   "id": "66a7382b-30b4-44f9-822c-ef30371d3cd5",
   "metadata": {},
   "outputs": [],
   "source": []
  },
  {
   "cell_type": "code",
   "execution_count": null,
   "id": "8de352c8-cecc-4585-bd9c-8c3137e14d57",
   "metadata": {},
   "outputs": [],
   "source": []
  },
  {
   "cell_type": "code",
   "execution_count": null,
   "id": "90d060fc-d041-4e2d-814e-aa3ae9267add",
   "metadata": {},
   "outputs": [],
   "source": []
  },
  {
   "cell_type": "markdown",
   "id": "5cd7813b-1808-4b39-9705-859904bb4d71",
   "metadata": {},
   "source": [
    "\n",
    "Let's look at some transforms\n",
    "$$\\mathrm{d} \\frac{1}{v} = (M \\cdot I +v\\frac{M \\cdot I}{N\\cdot S} + \\frac{(4v+2)M \\cdot I}{v\\,N\\cdot S})\\mathrm{d}t - \\sqrt{\\frac{M \\cdot I}{N\\cdot S}}\\mathrm{d}W_k-\\sqrt{\\frac{M(4v+2)I}{v^2\\,N\\cdot S}}\\mathrm{d}W_{v}$$\n",
    "$$\\mathrm{d} ln(S) =- (M \\cdot I+\\frac{1}{2}\\frac{M \\cdot I}{N\\cdot S}) \\mathrm{d}t +\\sqrt{\\frac{M \\cdot I}{N\\cdot S}}\\mathrm{d}W_k$$\n",
    "$$\\mathrm{d} (S+I) = - I\\mathrm{d}t + \\sqrt{\\frac{I}{N}}\\mathrm{d}W_I$$\n",
    "\n",
    "\n",
    "$$\\mathrm{d} ln(v) = -(v\\,M \\cdot I +\\frac{1}{2}v^3\\frac{M \\cdot I}{N\\cdot S} + \\frac{1}{2}\\frac{v(4v+2)M \\cdot I}{N\\cdot S})\\mathrm{d}t + v\\sqrt{\\frac{M \\cdot I}{N\\cdot S}}\\mathrm{d}W_k+\\sqrt{\\frac{M(4v+2)I}{N\\cdot S}}\\mathrm{d}W_{v}$$\n",
    "\n",
    "--------------------------------------------------------------\n",
    "-----------------------------------------------------------\n",
    "\n"
   ]
  },
  {
   "cell_type": "code",
   "execution_count": 17,
   "id": "90b52d79-b5dd-407e-bad7-2875a08665b2",
   "metadata": {},
   "outputs": [],
   "source": [
    "modeling_period=8.0\n",
    "t_step=0.005\n",
    "m_t=np.arange(0.0, modeling_period+t_step, t_step,dtype=np.float64)\n",
    "n_steps=len(m_t)-1\n"
   ]
  },
  {
   "cell_type": "code",
   "execution_count": 18,
   "id": "c95597d9-88e2-49c2-9ccb-b77fa069c6a8",
   "metadata": {},
   "outputs": [],
   "source": [
    "def HC_SIR(r0_0,I0,v0):\n",
    "    '''\n",
    "    Heterogeneous in Catching\n",
    "    SIR model\n",
    "    '''\n",
    "    def ODE(y,t):\n",
    "        S,I,mu,v=y\n",
    "\n",
    "        minus_r0_mult_I=-np.exp(mu+0.5*v)*I\n",
    "\n",
    "        dS = minus_r0_mult_I*S\n",
    "        dI = -dS - I\n",
    "        dmu = minus_r0_mult_I*v\n",
    "        dv = dmu*v\n",
    "        return [dS, dI, dmu, dv]\n",
    "    \n",
    "    y0=[1.0-I0,I0,np.log(r0_0)-0.5*v0,v0]\n",
    "    \n",
    "    sol = odeint(ODE,y0, m_t).T\n",
    "    dS=-ODE(sol,m_t)[0]\n",
    "    S,I,mu,v=sol\n",
    "    R=1.0-S-I\n",
    "    \n",
    "    return S,I,R,dS"
   ]
  },
  {
   "cell_type": "code",
   "execution_count": 19,
   "id": "93646ba7-77b9-4036-8524-69e8bc987daf",
   "metadata": {},
   "outputs": [
    {
     "data": {
      "image/png": "[encoded data removed]",
      "text/plain": [
       "<Figure size 768x576 with 2 Axes>"
      ]
     },
     "metadata": {},
     "output_type": "display_data"
    },
    {
     "name": "stdout",
     "output_type": "stream",
     "text": [
      "R+I at max |dS/dt| is 0.15277108265769057.\n"
     ]
    }
   ],
   "source": [
    "v0=2.5\n",
    "r0_0=5.2\n",
    "I0=0.0002\n",
    "S,I,R,dS= HC_SIR(r0_0,I0,v0)\n",
    "\n",
    "fig, ax = plt.subplots(dpi=120)\n",
    "plt.plot(m_t, S, color='C0', label=f'$S$')\n",
    "plt.plot(m_t, I,color='C1', label=f'$I$')\n",
    "plt.plot(m_t, R,color='C3', label=f'$R$')\n",
    "plt.plot(m_t, dS/(I*S)/r0_0,color='C4', label=f'$r_0(t)/r_0(0)$')\n",
    "ax.set_ylim([-0.05,1.05])\n",
    "ax.yaxis.set_major_locator(mpl.ticker.MultipleLocator(0.1))\n",
    "ax.set_ylabel(f'$SIR$ values, $r_0(t)/r_0(0)$')\n",
    "plt.legend(loc='center left')\n",
    "plt.xlabel(f'$t$')\n",
    "ax2 = ax.twinx()\n",
    "plt.plot(m_t, dS, color='C2', label=f'$|dS/dt|$') \n",
    "ax2.set_ylim([-0.01,0.26])\n",
    "ax2.yaxis.set_major_locator(mpl.ticker.MultipleLocator(0.025))\n",
    "ax2.grid(False)\n",
    "ax2.set_ylabel(f'The number of new cases per unit of time $|dS/dt|$')\n",
    "plt.legend(loc='upper right')\n",
    "plt.title(f'HC SIR dynamic $v=${v0}, $r_0(0)=${r0_0}')\n",
    "ax.text(4,-.3, 'Fig.1', ha='center')\n",
    "plt.show() \n",
    "print(f'R+I at max |dS/dt| is {(R+I)[np.argmax(dS)]}.')"
   ]
  },
  {
   "cell_type": "code",
   "execution_count": null,
   "id": "5ffed84d-0926-4e85-b026-66d41b22ad15",
   "metadata": {},
   "outputs": [],
   "source": []
  },
  {
   "cell_type": "code",
   "execution_count": null,
   "id": "e14b3059-91ff-4018-bdcd-6a44e117b159",
   "metadata": {},
   "outputs": [],
   "source": []
  },
  {
   "cell_type": "markdown",
   "id": "de3521b5-50ca-4dda-a6ef-4c020e33408a",
   "metadata": {},
   "source": [
    "$$\\mathrm{d} \\frac{1}{v} = (M \\cdot I +v\\frac{M \\cdot I}{N\\cdot S} + \\frac{(4v+2)M \\cdot I}{v\\,N\\cdot S})\\mathrm{d}t - \\sqrt{\\frac{M \\cdot I}{N\\cdot S}}\\mathrm{d}W_k-\\sqrt{\\frac{M(4v+2)I}{v^2\\,N\\cdot S}}\\mathrm{d}W_{\\mu}$$"
   ]
  },
  {
   "cell_type": "markdown",
   "id": "71014c06-d8f1-4091-97c9-3aeb1572d789",
   "metadata": {},
   "source": [
    "$$dX_t = a(X_t)\\,dt + b(X_t)\\,dB_t$$\n",
    "$$dF(X_t) =\n",
    " \\left[\n",
    "  a(X_t) \\frac{\\partial F}{\\partial x} +\n",
    "  \\frac{1}{2} b^2(X_t) \\frac{\\partial^2F}{\\partial x^2}\n",
    " \\right]\\,dt +\n",
    " \\frac{\\partial F}{\\partial x} b(X_t)\\,dB_t.$$\n",
    "$$F(X)=ln(X)$$"
   ]
  },
  {
   "cell_type": "code",
   "execution_count": null,
   "id": "034293e6-77b7-4843-b0f1-2592a8aec4dc",
   "metadata": {},
   "outputs": [],
   "source": []
  }
 ],
 "metadata": {
  "kernelspec": {
   "display_name": "Python 3 (ipykernel)",
   "language": "python",
   "name": "python3"
  },
  "language_info": {
   "codemirror_mode": {
    "name": "ipython",
    "version": 3
   },
   "file_extension": ".py",
   "mimetype": "text/x-python",
   "name": "python",
   "nbconvert_exporter": "python",
   "pygments_lexer": "ipython3",
   "version": "3.8.20"
  }
 },
 "nbformat": 4,
 "nbformat_minor": 5
}
