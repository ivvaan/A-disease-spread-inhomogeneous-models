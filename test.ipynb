{
 "cells": [
  {
   "cell_type": "markdown",
   "id": "5f152d1a",
   "metadata": {},
   "source": [
    "$$\n",
    "D(\\Delta t) = \\begin{cases} \n",
    "1 & \\Delta t<i_p\\\\ \n",
    "f((s_r(\\Delta t-i_p))^P) & \\text{otherwise} \n",
    "\\end{cases}\n",
    "$$"
   ]
  },
  {
   "cell_type": "code",
   "execution_count": null,
   "id": "7120b1f3",
   "metadata": {},
   "outputs": [],
   "source": []
  }
 ],
 "metadata": {
  "kernelspec": {
   "display_name": "Python 3 (ipykernel)",
   "language": "python",
   "name": "python3"
  },
  "language_info": {
   "codemirror_mode": {
    "name": "ipython",
    "version": 3
   },
   "file_extension": ".py",
   "mimetype": "text/x-python",
   "name": "python",
   "nbconvert_exporter": "python",
   "pygments_lexer": "ipython3",
   "version": "3.8.11"
  }
 },
 "nbformat": 4,
 "nbformat_minor": 5
}
